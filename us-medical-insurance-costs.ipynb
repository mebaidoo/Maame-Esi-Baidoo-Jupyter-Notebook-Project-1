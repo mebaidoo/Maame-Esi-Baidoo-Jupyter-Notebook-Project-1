{
 "cells": [
  {
   "cell_type": "markdown",
   "metadata": {},
   "source": [
    "# U.S. Medical Insurance Costs"
   ]
  },
  {
   "cell_type": "code",
   "execution_count": 184,
   "metadata": {},
   "outputs": [],
   "source": [
    "import csv\n",
    "import matplotlib.pyplot as plt"
   ]
  },
  {
   "cell_type": "code",
   "execution_count": 185,
   "metadata": {},
   "outputs": [],
   "source": [
    "#Creating a dictionary from the csv file and appending to a list which can be accessed easily\n",
    "insurance_dict = []\n",
    "\n",
    "with open(\"insurance.csv\") as insurance_file:\n",
    "    insurance_dict_file = csv.DictReader(insurance_file)\n",
    "    for item in insurance_dict_file:\n",
    "        insurance_dict.append(item)"
   ]
  },
  {
   "cell_type": "code",
   "execution_count": 186,
   "metadata": {},
   "outputs": [
    {
     "name": "stdout",
     "output_type": "stream",
     "text": [
      "The average age of the patients is 39\n"
     ]
    }
   ],
   "source": [
    "#Defining a function for calculating average\n",
    "def find_average(a_list):\n",
    "    total_cost = 0\n",
    "    for item in a_list:\n",
    "        total_cost += float(item)\n",
    "    return total_cost / len(a_list)\n",
    "#Finding average age of all patients in the dataset\n",
    "ages = []\n",
    "for item in insurance_dict:\n",
    "    ages.append(item[\"age\"])\n",
    "average_age = find_average(ages)\n",
    "print(\"The average age of the patients is \" + (str(int(average_age))))"
   ]
  },
  {
   "cell_type": "code",
   "execution_count": 187,
   "metadata": {},
   "outputs": [],
   "source": [
    "#Taking different lists containing charges from the dataset according to different patient groups\n",
    "#By age\n",
    "ages_18_to_30_charges = []\n",
    "for item in insurance_dict:\n",
    "    if int(item[\"age\"]) >= 18 and int(item[\"age\"]) <= 30:\n",
    "        ages_18_to_30_charges.append(item[\"charges\"])\n",
    "ages_31_to_60_charges = []\n",
    "for item in insurance_dict:\n",
    "    if int(item[\"age\"]) > 30 and int(item[\"age\"]) <= 60:\n",
    "        ages_31_to_60_charges.append(item[\"charges\"])\n",
    "ages_above_60_charges = []\n",
    "for item in insurance_dict:\n",
    "    if int(item[\"age\"]) > 60:\n",
    "        ages_above_60_charges.append(item[\"charges\"])\n",
    "#By sex\n",
    "female_charges = []\n",
    "for item in insurance_dict:\n",
    "    if item[\"sex\"] == \"female\":\n",
    "        female_charges.append(item[\"charges\"])\n",
    "male_charges = []\n",
    "for item in insurance_dict:\n",
    "    if item[\"sex\"] == \"male\":\n",
    "        male_charges.append(item[\"charges\"])\n",
    "#By BMI\n",
    "bmi_underweight_charges = []\n",
    "for item in insurance_dict:\n",
    "    if float(item[\"bmi\"]) < 18.5:\n",
    "        bmi_underweight_charges.append(item[\"charges\"])\n",
    "bmi_normal_charges = []\n",
    "for item in insurance_dict:\n",
    "    if float(item[\"bmi\"]) >= 18.5 and float(item[\"bmi\"]) < 25:\n",
    "        bmi_normal_charges.append(item[\"charges\"])\n",
    "bmi_overweight_charges = []\n",
    "for item in insurance_dict:\n",
    "    if float(item[\"bmi\"]) >= 25 and float(item[\"bmi\"]) < 30:\n",
    "        bmi_overweight_charges.append(item[\"charges\"])\n",
    "bmi_obese_charges = []\n",
    "for item in insurance_dict:\n",
    "    if float(item[\"bmi\"]) > 30:\n",
    "        bmi_obese_charges.append(item[\"charges\"])\n",
    "#By number of children\n",
    "no_children_charges = []\n",
    "for item in insurance_dict:\n",
    "    if int(item[\"children\"]) == 0:\n",
    "        no_children_charges.append(item[\"charges\"])\n",
    "one_or_two_children_charges = []\n",
    "for item in insurance_dict:\n",
    "    if int(item[\"children\"]) > 0 and int(item[\"children\"]) <= 2:\n",
    "        one_or_two_children_charges.append(item[\"charges\"])\n",
    "above_two_children_charges = []\n",
    "for item in insurance_dict:\n",
    "    if int(item[\"children\"]) > 2:\n",
    "        above_two_children_charges.append(item[\"charges\"])\n",
    "#By smoking habit\n",
    "smokers_charges = []\n",
    "for item in insurance_dict:\n",
    "    if item[\"smoker\"] == \"yes\":\n",
    "        smokers_charges.append(item[\"charges\"])\n",
    "non_smokers_charges = []\n",
    "for item in insurance_dict:\n",
    "    if item[\"smoker\"] == \"no\":\n",
    "        non_smokers_charges.append(item[\"charges\"])\n",
    "#By region\n",
    "northeast_charges = []\n",
    "for item in insurance_dict:\n",
    "    if item[\"region\"] == \"northeast\":\n",
    "        northeast_charges.append(item[\"charges\"])\n",
    "northwest_charges = []\n",
    "for item in insurance_dict:\n",
    "    if item[\"region\"] == \"northwest\":\n",
    "        northwest_charges.append(item[\"charges\"])\n",
    "southeast_charges = []\n",
    "for item in insurance_dict:\n",
    "    if item[\"region\"] == \"southeast\":\n",
    "        southeast_charges.append(item[\"charges\"])\n",
    "southwest_charges = []\n",
    "for item in insurance_dict:\n",
    "    if item[\"region\"] == \"southwest\":\n",
    "        southwest_charges.append(item[\"charges\"])"
   ]
  },
  {
   "cell_type": "code",
   "execution_count": 188,
   "metadata": {},
   "outputs": [
    {
     "name": "stdout",
     "output_type": "stream",
     "text": [
      "9397.552051484232\n",
      "14528.722304719793\n",
      "21063.163397912085\n",
      "12569.57884383534\n",
      "13956.751177721886\n",
      "8852.200585000002\n",
      "10409.337708977779\n",
      "10987.509891318654\n",
      "15560.92632126241\n",
      "12365.975601635882\n",
      "13727.934343262406\n",
      "14576.0001291\n",
      "32050.23183153285\n",
      "8434.268297856199\n",
      "13406.3845163858\n",
      "12417.575373969228\n",
      "14735.411437609895\n",
      "12346.93737729231\n"
     ]
    }
   ],
   "source": [
    "#Calculating average values of the different lists\n",
    "#For ages\n",
    "ages_18_to_30_charges_avg = find_average(ages_18_to_30_charges)\n",
    "print(ages_18_to_30_charges_avg)\n",
    "ages_31_to_60_charges_avg = find_average(ages_31_to_60_charges)\n",
    "print(ages_31_to_60_charges_avg)\n",
    "ages_above_60_charges_avg = find_average(ages_above_60_charges)\n",
    "print(ages_above_60_charges_avg)\n",
    "#For sex\n",
    "female_charges_avg = find_average(female_charges)\n",
    "print(female_charges_avg)\n",
    "male_charges_avg = find_average(male_charges)\n",
    "print(male_charges_avg)\n",
    "#For BMI\n",
    "bmi_underweight_charges_avg = find_average(bmi_underweight_charges)\n",
    "print(bmi_underweight_charges_avg)\n",
    "bmi_normal_charges_avg = find_average(bmi_normal_charges)\n",
    "print(bmi_normal_charges_avg)\n",
    "bmi_overweight_charges_avg = find_average(bmi_overweight_charges)\n",
    "print(bmi_overweight_charges_avg)\n",
    "bmi_obese_charges_avg = find_average(bmi_obese_charges)\n",
    "print(bmi_obese_charges_avg)\n",
    "#For number of children\n",
    "no_children_charges_avg = find_average(no_children_charges)\n",
    "print(no_children_charges_avg)\n",
    "one_or_two_children_charges_avg = find_average(one_or_two_children_charges)\n",
    "print(one_or_two_children_charges_avg)\n",
    "above_two_children_charges_avg = find_average(above_two_children_charges)\n",
    "print(above_two_children_charges_avg)\n",
    "#For smoking habit\n",
    "smokers_charges_avg = find_average(smokers_charges)\n",
    "print(smokers_charges_avg)\n",
    "non_smokers_charges_avg = find_average(non_smokers_charges)\n",
    "print(non_smokers_charges_avg)\n",
    "#For region\n",
    "northeast_charges_avg = find_average(northeast_charges)\n",
    "print(northeast_charges_avg)\n",
    "northwest_charges_avg = find_average(northwest_charges)\n",
    "print(northwest_charges_avg)\n",
    "southeast_charges_avg = find_average(southeast_charges)\n",
    "print(southeast_charges_avg)\n",
    "southwest_charges_avg = find_average(southwest_charges)\n",
    "print(southwest_charges_avg)"
   ]
  },
  {
   "cell_type": "code",
   "execution_count": 189,
   "metadata": {},
   "outputs": [
    {
     "name": "stdout",
     "output_type": "stream",
     "text": [
      "['Ages 18 to 30', 'Ages 31 to 60', 'Ages above 60']\n",
      "[9397.552051484232, 14528.722304719793, 21063.163397912085]\n",
      "['Female charges', 'Male charges']\n",
      "[12569.57884383534, 13956.751177721886]\n",
      "['BMI underweight charges', 'BMI normal charges', 'BMI overweight charges', 'BMI obese charges']\n",
      "[8852.200585000002, 10409.337708977779, 10987.509891318654, 15560.92632126241]\n",
      "['No children charges', 'One or two children charges', 'Above two children charges']\n",
      "[12365.975601635882, 13727.934343262406, 14576.0001291]\n",
      "['Smokers charges', 'Non smokers charges']\n",
      "[32050.23183153285, 8434.268297856199]\n",
      "['southwest', 'southeast', 'northwest', 'northeast']\n",
      "[12346.93737729231, 14735.411437609895, 12417.575373969228, 13406.3845163858]\n"
     ]
    }
   ],
   "source": [
    "#Compiling averages list\n",
    "def compile_averages(new_average_list, *args):\n",
    "    new_average_list.extend(*args)\n",
    "    return new_average_list\n",
    "#For ages\n",
    "ages_averages = []\n",
    "compile_averages(ages_averages, (ages_18_to_30_charges_avg, ages_31_to_60_charges_avg, ages_above_60_charges_avg))\n",
    "ages_categories = [\"Ages 18 to 30\", \"Ages 31 to 60\", \"Ages above 60\"]\n",
    "print(ages_categories)\n",
    "print(ages_averages)\n",
    "#For sex\n",
    "sex_averages = []\n",
    "compile_averages(sex_averages, (female_charges_avg, male_charges_avg))\n",
    "sex_categories = [\"Female charges\", \"Male charges\"]\n",
    "print(sex_categories)\n",
    "print(sex_averages)\n",
    "#For BMI\n",
    "bmi_averages = []\n",
    "compile_averages(bmi_averages, (bmi_underweight_charges_avg, bmi_normal_charges_avg, bmi_overweight_charges_avg, bmi_obese_charges_avg))\n",
    "bmi_categories = [\"BMI underweight charges\", \"BMI normal charges\", \"BMI overweight charges\", \"BMI obese charges\"]\n",
    "print(bmi_categories)\n",
    "print(bmi_averages)\n",
    "#For number of children\n",
    "number_of_children_averages = []\n",
    "compile_averages(number_of_children_averages, (no_children_charges_avg, one_or_two_children_charges_avg, above_two_children_charges_avg))\n",
    "number_of_children_categories = [\"No children charges\", \"One or two children charges\", \"Above two children charges\"]\n",
    "print(number_of_children_categories)\n",
    "print(number_of_children_averages)\n",
    "#For smoking habit\n",
    "smoking_averages = []\n",
    "compile_averages(smoking_averages, (smokers_charges_avg, non_smokers_charges_avg))\n",
    "smoking_categories = [\"Smokers charges\", \"Non smokers charges\"]\n",
    "print(smoking_categories)\n",
    "print(smoking_averages)\n",
    "#For region\n",
    "regions_averages = []\n",
    "compile_averages(regions_averages, (southwest_charges_avg, southeast_charges_avg, northwest_charges_avg, northeast_charges_avg))\n",
    "region_list = []\n",
    "regions_categories = []\n",
    "for item in insurance_dict:\n",
    "    region_list.append(item[\"region\"])\n",
    "for item in region_list:\n",
    "    if item in regions_categories:\n",
    "        continue\n",
    "    else:\n",
    "        regions_categories.append(item)\n",
    "print(regions_categories)\n",
    "print(regions_averages)"
   ]
  },
  {
   "cell_type": "code",
   "execution_count": 190,
   "metadata": {},
   "outputs": [
    {
     "data": {
      "text/plain": [
       "Text(0.5,1,'Average charges of different age groups')"
      ]
     },
     "execution_count": 190,
     "metadata": {},
     "output_type": "execute_result"
    },
    {
     "data": {
      "image/png": "[encoded data removed]",
      "text/plain": [
       "<Figure size 432x288 with 1 Axes>"
      ]
     },
     "metadata": {
      "needs_background": "light"
     },
     "output_type": "display_data"
    }
   ],
   "source": [
    "#Plotting averages and comparing how charges differs from one category to another\n",
    "#Comparing how charges differ for different age groups\n",
    "plt.plot(ages_categories, ages_averages)\n",
    "plt.xlabel(\"Ages Categories\")\n",
    "plt.ylabel(\"Average charges\")\n",
    "plt.title(\"Average charges of different age groups\")"
   ]
  },
  {
   "cell_type": "code",
   "execution_count": 191,
   "metadata": {},
   "outputs": [
    {
     "data": {
      "text/plain": [
       "Text(0.5,1,'Average charges for males and females')"
      ]
     },
     "execution_count": 191,
     "metadata": {},
     "output_type": "execute_result"
    },
    {
     "data": {
      "image/png": "[encoded data removed]",
      "text/plain": [
       "<Figure size 432x288 with 1 Axes>"
      ]
     },
     "metadata": {
      "needs_background": "light"
     },
     "output_type": "display_data"
    }
   ],
   "source": [
    "#Comparing how charges differ for males and females\n",
    "plt.plot(sex_categories, sex_averages)\n",
    "plt.xlabel(\"Sex Categories\")\n",
    "plt.ylabel(\"Average charges\")\n",
    "plt.title(\"Average charges for males and females\")"
   ]
  },
  {
   "cell_type": "code",
   "execution_count": 192,
   "metadata": {},
   "outputs": [
    {
     "data": {
      "text/plain": [
       "Text(0.5,1,'Average charges of people with different BMIs')"
      ]
     },
     "execution_count": 192,
     "metadata": {},
     "output_type": "execute_result"
    },
    {
     "data": {
      "image/png": "[encoded data removed]",
      "text/plain": [
       "<Figure size 432x288 with 1 Axes>"
      ]
     },
     "metadata": {
      "needs_background": "light"
     },
     "output_type": "display_data"
    }
   ],
   "source": [
    "#Comparing how charges differ for people with different BMIs\n",
    "plt.plot(bmi_categories, bmi_averages)\n",
    "plt.xlabel(\"BMI Categories\")\n",
    "plt.ylabel(\"Average charges\")\n",
    "plt.title(\"Average charges of people with different BMIs\")"
   ]
  },
  {
   "cell_type": "code",
   "execution_count": 193,
   "metadata": {},
   "outputs": [
    {
     "data": {
      "text/plain": [
       "Text(0.5,1,'Average charges of people with varying number of children')"
      ]
     },
     "execution_count": 193,
     "metadata": {},
     "output_type": "execute_result"
    },
    {
     "data": {
      "image/png": "[encoded data removed]",
      "text/plain": [
       "<Figure size 432x288 with 1 Axes>"
      ]
     },
     "metadata": {
      "needs_background": "light"
     },
     "output_type": "display_data"
    }
   ],
   "source": [
    "#Comparing how charges differ for people with different number of children\n",
    "plt.plot(number_of_children_categories, number_of_children_averages)\n",
    "plt.xlabel(\"Number of Children Categories\")\n",
    "plt.ylabel(\"Average charges\")\n",
    "plt.title(\"Average charges of people with varying number of children\")"
   ]
  },
  {
   "cell_type": "code",
   "execution_count": null,
   "metadata": {},
   "outputs": [],
   "source": [
    "#Comparing how charges differ for people with different smoking habits\n",
    "plt.plot(smoking_categories, smoking_averages)\n",
    "plt.xlabel(\"Smoking Habit Categories\")\n",
    "plt.ylabel(\"Average charges\")\n",
    "plt.title(\"Average charges for smokers and non-smokers\")"
   ]
  },
  {
   "cell_type": "code",
   "execution_count": null,
   "metadata": {},
   "outputs": [],
   "source": [
    "#Comparing how charges differ for people in different regions\n",
    "plt.plot(regions_categories, regions_averages)\n",
    "plt.xlabel(\"Region Categories\")\n",
    "plt.ylabel(\"Average charges\")\n",
    "plt.title(\"Average charges of people in different regions\")"
   ]
  },
  {
   "cell_type": "code",
   "execution_count": null,
   "metadata": {},
   "outputs": [],
   "source": [
    "#Analyzing where the majority of the individuals are from\n",
    "print(\"These are the different regions where the patients are located: \" + str(regions_categories))\n",
    "region_with_count = {}\n",
    "region_with_count[regions_categories[0]] = region_list.count(\"southwest\")\n",
    "region_with_count[regions_categories[1]] = region_list.count(\"southeast\")\n",
    "region_with_count[regions_categories[2]] = region_list.count(\"northwest\")\n",
    "region_with_count[regions_categories[3]] = region_list.count(\"northeast\")\n",
    "for item in region_with_count.items():\n",
    "        if item[1] == max(region_with_count.values()):\n",
    "            print(item[0] + \" is where the majority of the individuals are from with \" + str(item[1]) + \" individuals.\")"
   ]
  },
  {
   "cell_type": "code",
   "execution_count": null,
   "metadata": {},
   "outputs": [],
   "source": [
    "#Finding the average age for someone with at least one child\n",
    "ages_with_children = []\n",
    "for item in insurance_dict:\n",
    "    if int(item[\"children\"]) >= 1:\n",
    "        ages_with_children.append(item[\"age\"])\n",
    "print(\"The average age for a person with at least one child is \" + str(int(find_average(ages_with_children))))"
   ]
  },
  {
   "cell_type": "code",
   "execution_count": null,
   "metadata": {},
   "outputs": [],
   "source": [
    "#End of US Medical Insurance Data Analysis"
   ]
  }
 ],
 "metadata": {
  "kernelspec": {
   "display_name": "Python 3",
   "language": "python",
   "name": "python3"
  },
  "language_info": {
   "codemirror_mode": {
    "name": "ipython",
    "version": 3
   },
   "file_extension": ".py",
   "mimetype": "text/x-python",
   "name": "python",
   "nbconvert_exporter": "python",
   "pygments_lexer": "ipython3",
   "version": "3.7.0"
  }
 },
 "nbformat": 4,
 "nbformat_minor": 4
}
